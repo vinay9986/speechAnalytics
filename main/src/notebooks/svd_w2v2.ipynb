{
 "cells": [
  {
   "cell_type": "markdown",
   "metadata": {},
   "source": [
    "#### If this is your first run and you are only reproducing the results, do the following\n",
    "1. Run svd_w2v2_init.py\n",
    "2. Run svd_w2v2.ipynb\n",
    "\n",
    "#### If this is your first run and you are reproducing the training and results, do the following\n",
    "1. Run svd_w2v2_init.py\n",
    "2. Run svd_w2v2.ipynb till cell 14\n",
    "3. Run svd_w2v2_train.py\n",
    "4. Run remaining two cells (15 and 16) of svd_w2v2.ipynb"
   ]
  },
  {
   "cell_type": "code",
   "execution_count": 1,
   "metadata": {
    "id": "8g0d5BmvqgyN"
   },
   "outputs": [],
   "source": [
    "import librosa\n",
    "from transformers import (\n",
    "    Wav2Vec2ForCTC,\n",
    "    Wav2Vec2Processor,\n",
    "    Wav2Vec2Config,\n",
    ")\n",
    "import torch\n",
    "import pandas as pd\n",
    "from pycaret.classification import *\n",
    "import numpy as np\n",
    "import seaborn as sns\n",
    "from matplotlib import pyplot\n",
    "import copy\n",
    "import random\n",
    "import os\n",
    "\n",
    "from sklearn.metrics import accuracy_score\n",
    "from sklearn.metrics import roc_auc_score\n",
    "from sklearn.metrics import f1_score\n",
    "from sklearn.model_selection import train_test_split\n",
    "\n",
    "import warnings\n",
    "warnings.filterwarnings('ignore')"
   ]
  },
  {
   "cell_type": "code",
   "execution_count": 2,
   "metadata": {},
   "outputs": [],
   "source": [
    "def set_seed(seed = 0):\n",
    "    np.random.seed(seed)\n",
    "    random_state = np.random.RandomState(seed)\n",
    "    random.seed(seed)\n",
    "    torch.manual_seed(seed)\n",
    "    torch.cuda.manual_seed(seed)\n",
    "    torch.backends.cudnn.deterministic = True\n",
    "    torch.backends.cudnn.benchmark = False\n",
    "    os.environ['PYTHONHASHSEED'] = str(seed)\n",
    "    return random_state\n",
    "\n",
    "seed=1112\n",
    "random_state = set_seed(seed)"
   ]
  },
  {
   "cell_type": "code",
   "execution_count": 3,
   "metadata": {
    "id": "U76EYhJPqpbO"
   },
   "outputs": [],
   "source": [
    "class SVDDataset(torch.nn.Module):\n",
    "    def __init__(self, df, processor, duration):\n",
    "      self.samples = df['path'].to_numpy()\n",
    "      self.processor = processor\n",
    "      self.duration = duration\n",
    "    \n",
    "    def __getitem__(self,idx):\n",
    "      speech_array, sampling_rate = librosa.load(self.samples[idx], sr=16_000, duration=self.duration)\n",
    "      input = self.processor(speech_array, \n",
    "                             sampling_rate=sampling_rate, \n",
    "                             return_tensors=\"pt\",\n",
    "                             padding=True,\n",
    "                             )\n",
    "      return input\n",
    "    \n",
    "    def __len__(self):\n",
    "        return len(self.samples)"
   ]
  },
  {
   "cell_type": "code",
   "execution_count": 4,
   "metadata": {
    "id": "ZxteNu5vqsUg"
   },
   "outputs": [],
   "source": [
    "def get_vector(hidden_layers_form_arch, mode='average', top_n_layers=4):\n",
    "  '''\n",
    "  retrieve vectors for a token_index from the top n layers and return a concatenated, averaged or summed vector \n",
    "  hidden_layers_form_arch: tuple returned by the transformer library\n",
    "  token_index: index of the token for which a vector is desired\n",
    "  mode=\n",
    "        'average' : avg last n layers\n",
    "        'concat': concatenate last n layers\n",
    "        'sum' : sum last n layers\n",
    "        'last': return embeddings only from last layer\n",
    "        'second_last': return embeddings only from second last layer\n",
    "  top_n_layers: number of top layers to concatenate/ average / sum\n",
    "  '''\n",
    "  if mode == 'concat':\n",
    "    # for each token/sequence concatenate the last for layers embeddings -> returns [batch_size x seq_len x dim]\n",
    "    return torch.cat(hidden_layers_form_arch[-top_n_layers:], dim=2)\n",
    "  \n",
    "  if mode == 'average':\n",
    "    # for each token/sequence take mean of last 4 layers embeddings -> returns [batch_size x seq_len x dim]\n",
    "    return torch.stack(hidden_layers_form_arch[-top_n_layers:]).mean(0)\n",
    "\n",
    "  if mode == 'sum':\n",
    "    # for each token/sequence take sum of last 4 layers embeddings -> returns [batch_size x seq_len x dim]\n",
    "    return torch.stack(hidden_layers_form_arch[-top_n_layers:]).sum(0)\n",
    "\n",
    "  if mode == 'last':\n",
    "    # for each token/sequence take only the last layer embeddings -> returns [batch_size x seq_len x dim]\n",
    "    return hidden_layers_form_arch[-1:][0]\n",
    "\n",
    "  if mode == 'second_last':\n",
    "    # for each token/sequence take only the second last layer embeddings -> returns [batch_size x seq_len x dim]\n",
    "    return hidden_layers_form_arch[-2:-1][0]\n",
    "\n",
    "  return None"
   ]
  },
  {
   "cell_type": "code",
   "execution_count": 5,
   "metadata": {
    "id": "iLF5ttztqwcd"
   },
   "outputs": [],
   "source": [
    "def get_embeddings_df(df, model_id, mode='average', batch_size=10, duration=120, device='cpu'):\n",
    "  config = Wav2Vec2Config.from_pretrained(model_id)\n",
    "  config.output_hidden_states = True\n",
    "  config.return_dict = True\n",
    "  model = Wav2Vec2ForCTC.from_pretrained(model_id, config=config).to(device)\n",
    "  processor=Wav2Vec2Processor.from_pretrained(model_id)\n",
    "\n",
    "  ds = SVDDataset(df, processor, duration=duration)\n",
    "  dl = torch.utils.data.DataLoader(ds, batch_size = batch_size, shuffle=False, num_workers = 2, pin_memory=True, drop_last=False)\n",
    "\n",
    "  embeddings = []\n",
    "  with torch.no_grad():\n",
    "    for batch_number, batch in enumerate(dl):\n",
    "      inputs = {key: torch.squeeze(val, dim=1).to(device) for key, val in batch.items()}\n",
    "      outputs = model(inputs['input_values'], attention_mask=inputs['attention_mask'])\n",
    "      hidden_layers = outputs.hidden_states\n",
    "      token_vectors = get_vector(outputs.hidden_states, mode=mode)\n",
    "      # print(token_vectors.shape)\n",
    "      # token vectors have shape of [batch_size x seq_len x dim].\n",
    "      # we need to get average/mean of all the tokens/sequence to generate \n",
    "      # speech/sentence vector. This is done by applying mean on dim=1. \n",
    "      # dim 0 is batch_size, dim 1 is seq_len and dim 2 is embedding_size/dim\n",
    "      embeddings.extend(torch.mean(token_vectors, dim=1).detach().cpu().numpy())\n",
    "  return embeddings"
   ]
  },
  {
   "cell_type": "code",
   "execution_count": 6,
   "metadata": {
    "id": "1O_7HFmuqjkR"
   },
   "outputs": [
    {
     "data": {
      "text/plain": [
       "(1988, 4)"
      ]
     },
     "execution_count": 6,
     "metadata": {},
     "output_type": "execute_result"
    }
   ],
   "source": [
    "model_id = 'jonatasgrosman/wav2vec2-large-xlsr-53-german'\n",
    "device = torch.device('cuda' if torch.cuda.is_available() else 'cpu')\n",
    "\n",
    "df = pd.read_csv('../data/svd_speech/voice_samples/svd_w2v2_dataset.csv')\n",
    "df.shape"
   ]
  },
  {
   "cell_type": "code",
   "execution_count": 7,
   "metadata": {},
   "outputs": [
    {
     "data": {
      "text/plain": [
       "target   \n",
       "pathology    0.681087\n",
       "healthy      0.318913\n",
       "dtype: float64"
      ]
     },
     "execution_count": 7,
     "metadata": {},
     "output_type": "execute_result"
    }
   ],
   "source": [
    "df.value_counts(['target'], normalize=True)"
   ]
  },
  {
   "cell_type": "code",
   "execution_count": 8,
   "metadata": {
    "colab": {
     "base_uri": "https://localhost:8080/"
    },
    "id": "hkk-UMKUrF5M",
    "outputId": "06d7fdc9-caa2-408d-89cd-1cbbcebe7883"
   },
   "outputs": [
    {
     "data": {
      "text/plain": [
       "target     sex\n",
       "pathology  0      0.365191\n",
       "           1      0.315895\n",
       "healthy    0      0.192153\n",
       "           1      0.126761\n",
       "dtype: float64"
      ]
     },
     "execution_count": 8,
     "metadata": {},
     "output_type": "execute_result"
    }
   ],
   "source": [
    "df.value_counts(['target', 'sex'], normalize=True)"
   ]
  },
  {
   "cell_type": "code",
   "execution_count": 9,
   "metadata": {
    "colab": {
     "base_uri": "https://localhost:8080/"
    },
    "id": "SybULDQzrIx7",
    "outputId": "eccfaf99-4095-4e8c-d004-a8b5b2164a30"
   },
   "outputs": [
    {
     "name": "stdout",
     "output_type": "stream",
     "text": [
      "Looking at mean of voice recording duration, overall and sub-groups\n",
      "\n",
      "==============================\n",
      "overall mean: 2.173884366197183\n",
      "==============================\n",
      "\n",
      "==============================\n",
      "Healthy samples mean: duration    1.851918\n",
      "dtype: float64\n",
      "Pathological samples mean: duration    2.324643\n",
      "dtype: float64\n",
      "==============================\n",
      "\n",
      "==============================\n",
      "Healthy female samples mean: duration    1.840343\n",
      "dtype: float64\n",
      "Pathological female samples mean: duration    2.329902\n",
      "dtype: float64\n",
      "==============================\n",
      "\n",
      "==============================\n",
      "Healthy male samples mean: duration    1.869465\n",
      "dtype: float64\n",
      "Pathological male samples mean: duration    2.318562\n",
      "dtype: float64\n",
      "==============================\n"
     ]
    }
   ],
   "source": [
    "print('Looking at mean of voice recording duration, overall and sub-groups')\n",
    "print()\n",
    "print('='*30)\n",
    "print('overall mean:', df['duration'].mean())\n",
    "print('='*30)\n",
    "print()\n",
    "print('='*30)\n",
    "print('Healthy samples mean:', df.loc[(df.target == 'healthy'), ['duration']].mean())\n",
    "print('Pathological samples mean:', df.loc[(df.target == 'pathology'), ['duration']].mean())\n",
    "print('='*30)\n",
    "print()\n",
    "print('='*30)\n",
    "print('Healthy female samples mean:', df.loc[(df.target == 'healthy') & (df.sex == 0), ['duration']].mean())\n",
    "print('Pathological female samples mean:', df.loc[(df.target == 'pathology') & (df.sex == 0), ['duration']].mean())\n",
    "print('='*30)\n",
    "print()\n",
    "print('='*30)\n",
    "print('Healthy male samples mean:', df.loc[(df.target == 'healthy') & (df.sex == 1), ['duration']].mean())\n",
    "print('Pathological male samples mean:', df.loc[(df.target == 'pathology') & (df.sex == 1), ['duration']].mean())\n",
    "print('='*30)"
   ]
  },
  {
   "cell_type": "code",
   "execution_count": 10,
   "metadata": {
    "colab": {
     "base_uri": "https://localhost:8080/"
    },
    "id": "C711vxZVrLa3",
    "outputId": "41a824c4-c431-49d1-d33c-aa24115d0b3c"
   },
   "outputs": [
    {
     "name": "stdout",
     "output_type": "stream",
     "text": [
      "Looking at max of voice recording duration, overall and sub-groups\n",
      "\n",
      "==============================\n",
      "overall max: 6.371919999999999\n",
      "==============================\n",
      "\n",
      "==============================\n",
      "Healthy samples max: duration    4.14034\n",
      "dtype: float64\n",
      "Pathological samples max: duration    6.37192\n",
      "dtype: float64\n",
      "==============================\n",
      "\n",
      "==============================\n",
      "Healthy female samples max: duration    4.14034\n",
      "dtype: float64\n",
      "Pathological female samples max: duration    6.35934\n",
      "dtype: float64\n",
      "==============================\n",
      "\n",
      "==============================\n",
      "Healthy male samples max: duration    3.9032\n",
      "dtype: float64\n",
      "Pathological male samples max: duration    6.37192\n",
      "dtype: float64\n",
      "==============================\n"
     ]
    }
   ],
   "source": [
    "print('Looking at max of voice recording duration, overall and sub-groups')\n",
    "print()\n",
    "print('='*30)\n",
    "print('overall max:', df['duration'].max())\n",
    "print('='*30)\n",
    "print()\n",
    "print('='*30)\n",
    "print('Healthy samples max:', df.loc[(df.target == 'healthy'), ['duration']].max())\n",
    "print('Pathological samples max:', df.loc[(df.target == 'pathology'), ['duration']].max())\n",
    "print('='*30)\n",
    "print()\n",
    "print('='*30)\n",
    "print('Healthy female samples max:', df.loc[(df.target == 'healthy') & (df.sex == 0), ['duration']].max())\n",
    "print('Pathological female samples max:', df.loc[(df.target == 'pathology') & (df.sex == 0), ['duration']].max())\n",
    "print('='*30)\n",
    "print()\n",
    "print('='*30)\n",
    "print('Healthy male samples max:', df.loc[(df.target == 'healthy') & (df.sex == 1), ['duration']].max())\n",
    "print('Pathological male samples max:', df.loc[(df.target == 'pathology') & (df.sex == 1), ['duration']].max())\n",
    "print('='*30)"
   ]
  },
  {
   "cell_type": "code",
   "execution_count": 11,
   "metadata": {
    "colab": {
     "base_uri": "https://localhost:8080/",
     "height": 673
    },
    "id": "lRcwVPOHrPIs",
    "outputId": "896672d7-d3a5-4d54-dd7b-bf6d7a1f20e1"
   },
   "outputs": [
    {
     "data": {
      "image/png": "[encoded data removed]",
      "text/plain": [
       "<Figure size 1080x720 with 1 Axes>"
      ]
     },
     "metadata": {
      "needs_background": "light"
     },
     "output_type": "display_data"
    }
   ],
   "source": [
    "overall_healthy = df.loc[(df.target == 'healthy'), ['duration']]\n",
    "overall_pathology = df.loc[(df.target == 'pathology'), ['duration']]\n",
    "female_healthy = df.loc[(df.target == 'healthy') & (df.sex == 0), ['duration']]\n",
    "female_pathology = df.loc[(df.target == 'pathology') & (df.sex == 0), ['duration']]\n",
    "male_healthy = df.loc[(df.target == 'healthy') & (df.sex == 1), ['duration']]\n",
    "male_pathology = df.loc[(df.target == 'pathology') & (df.sex == 1), ['duration']]\n",
    "\n",
    "fig = pyplot.figure(figsize=(15,10))\n",
    "sns.distplot(overall_healthy, hist=False, rug=True)\n",
    "sns.distplot(overall_pathology, hist=False, rug=True)\n",
    "sns.distplot(female_healthy, hist=False, rug=True)\n",
    "sns.distplot(female_pathology, hist=False, rug=True)\n",
    "sns.distplot(male_healthy, hist=False, rug=True)\n",
    "sns.distplot(male_pathology, hist=False, rug=True)\n",
    "fig.legend(labels=['o_h', 'o_p', 'f_h', 'f_p', 'm_h', 'm_p'])\n",
    "pyplot.show()"
   ]
  },
  {
   "cell_type": "code",
   "execution_count": 12,
   "metadata": {
    "id": "eC1NS1M_FBwY"
   },
   "outputs": [],
   "source": [
    "speech_embeddings = get_embeddings_df(df=df, model_id=model_id, mode='concat', batch_size=1, duration=1.9, device=device)\n",
    "target = df.target.map({'healthy': 1, 'pathology': 0})"
   ]
  },
  {
   "cell_type": "code",
   "execution_count": 13,
   "metadata": {
    "colab": {
     "base_uri": "https://localhost:8080/"
    },
    "id": "49YDC7PO1WWw",
    "outputId": "b3a57f9e-7f05-485d-87ce-431bed95fcbb"
   },
   "outputs": [
    {
     "data": {
      "text/plain": [
       "(1988, 4097)"
      ]
     },
     "execution_count": 13,
     "metadata": {},
     "output_type": "execute_result"
    }
   ],
   "source": [
    "columns = []\n",
    "for i in range(speech_embeddings[0].shape[0]):\n",
    "  columns.append(str(i))\n",
    "\n",
    "processed_df = pd.DataFrame(data=speech_embeddings, columns=columns)\n",
    "processed_df['target'] = target\n",
    "\n",
    "processed_df.shape"
   ]
  },
  {
   "cell_type": "code",
   "execution_count": 14,
   "metadata": {},
   "outputs": [
    {
     "name": "stdout",
     "output_type": "stream",
     "text": [
      "(1590, 4097)\n",
      "(398, 4097)\n"
     ]
    }
   ],
   "source": [
    "processed_df.to_csv(path_or_buf='../data/svd_speech/voice_samples/svd_w2v2_processed.csv', index=False, header=True)\n",
    "\n",
    "train, test = train_test_split(processed_df, test_size=0.2)\n",
    "print(train.shape)\n",
    "print(test.shape)"
   ]
  },
  {
   "cell_type": "markdown",
   "metadata": {},
   "source": [
    "### Run all the above cells to generate processed data"
   ]
  },
  {
   "cell_type": "code",
   "execution_count": 15,
   "metadata": {},
   "outputs": [
    {
     "name": "stdout",
     "output_type": "stream",
     "text": [
      "Transformation Pipeline and Model Successfully Loaded\n",
      "Blend model accuracy:  0.9120603015075377\n",
      "Blend model AUC:  0.9696550506239698\n",
      "Blend model f1 score:  0.8616600790513833\n"
     ]
    }
   ],
   "source": [
    "blend_model = load_model('blend_estimator')\n",
    "X = copy.deepcopy(test)\n",
    "X.drop(columns=['target'], axis=1, inplace=True)\n",
    "y = copy.deepcopy(test['target'])\n",
    "\n",
    "y_pred = blend_model.predict(X)\n",
    "y_proba = blend_model.predict_proba(X)[:,1]\n",
    "print('Blend model accuracy: ', accuracy_score(y, y_pred))\n",
    "print('Blend model AUC: ', roc_auc_score(y, y_proba))\n",
    "print('Blend model f1 score: ', f1_score(y, y_pred))"
   ]
  },
  {
   "cell_type": "code",
   "execution_count": 16,
   "metadata": {},
   "outputs": [
    {
     "name": "stdout",
     "output_type": "stream",
     "text": [
      "Transformation Pipeline and Model Successfully Loaded\n",
      "Stack model accuracy:  0.8994974874371859\n",
      "Stack model AUC:  0.9587355780550977\n",
      "Stack model f1 score:  0.8387096774193549\n"
     ]
    }
   ],
   "source": [
    "stack_model = load_model('stacked_estimator')\n",
    "X = copy.deepcopy(test)\n",
    "X.drop(columns=['target'], axis=1, inplace=True)\n",
    "y = copy.deepcopy(test['target'])\n",
    "\n",
    "y_pred = stack_model.predict(X)\n",
    "y_proba = stack_model.predict_proba(X)[:,1]\n",
    "print('Stack model accuracy: ', accuracy_score(y, y_pred))\n",
    "print('Stack model AUC: ', roc_auc_score(y, y_proba))\n",
    "print('Stack model f1 score: ', f1_score(y, y_pred))"
   ]
  },
  {
   "cell_type": "code",
   "execution_count": null,
   "metadata": {},
   "outputs": [],
   "source": []
  }
 ],
 "metadata": {
  "accelerator": "GPU",
  "colab": {
   "collapsed_sections": [],
   "name": "german_w2v2_vai_part3.ipynb",
   "provenance": []
  },
  "kernelspec": {
   "display_name": "pytorch",
   "language": "python",
   "name": "pytorch"
  },
  "language_info": {
   "codemirror_mode": {
    "name": "ipython",
    "version": 3
   },
   "file_extension": ".py",
   "mimetype": "text/x-python",
   "name": "python",
   "nbconvert_exporter": "python",
   "pygments_lexer": "ipython3",
   "version": "3.7.8"
  }
 },
 "nbformat": 4,
 "nbformat_minor": 4
}
